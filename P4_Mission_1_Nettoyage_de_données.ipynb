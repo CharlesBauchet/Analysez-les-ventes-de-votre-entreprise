{
 "cells": [
  {
   "cell_type": "markdown",
   "id": "942f944e",
   "metadata": {},
   "source": [
    "# Mission 1 : Nettoyage de données"
   ]
  },
  {
   "cell_type": "markdown",
   "id": "ae9ab0d1",
   "metadata": {},
   "source": [
    "##### Contexte : Je suis un nouveau DATA Analyst d'une grande chaîne de librairie et mon manager me demande de réaliser une présentation pour me 'faire la main'.\n",
    "##### En effet, j'ai obtenus 3 fichiers en format .csv pour pouvoir effectuer cette analyse :\n",
    "##### - Les Ventes (appelées “Transactions”)\n",
    "##### - La liste des clients\n",
    "##### - La liste des produits"
   ]
  },
  {
   "cell_type": "markdown",
   "id": "ef708c0b",
   "metadata": {},
   "source": [
    "## Importation des fichiers et des librairies"
   ]
  },
  {
   "cell_type": "code",
   "execution_count": 1,
   "id": "80b54fe7",
   "metadata": {},
   "outputs": [],
   "source": [
    "# Importation des librairies Python\n",
    "import pandas as pd\n",
    "import numpy as np\n",
    "import matplotlib.pyplot as plt\n",
    "import seaborn as sns\n",
    "import scipy.stats as st\n",
    "import math as mth\n",
    "\n",
    "# Importation des fichiers .csv\n",
    "df_customers = pd.read_csv('Projet_4_files/customers.csv')\n",
    "df_products = pd.read_csv('Projet_4_files/products.csv')\n",
    "df_transactions = pd.read_csv('Projet_4_files/transactions.csv')"
   ]
  },
  {
   "cell_type": "markdown",
   "id": "45be8176",
   "metadata": {},
   "source": [
    "## Visualisation/Vérification de mes dataframes"
   ]
  },
  {
   "cell_type": "code",
   "execution_count": 2,
   "id": "e565c76a",
   "metadata": {},
   "outputs": [
    {
     "name": "stdout",
     "output_type": "stream",
     "text": [
      "<class 'pandas.core.frame.DataFrame'>\n",
      "RangeIndex: 8623 entries, 0 to 8622\n",
      "Data columns (total 3 columns):\n",
      " #   Column     Non-Null Count  Dtype \n",
      "---  ------     --------------  ----- \n",
      " 0   client_id  8623 non-null   object\n",
      " 1   sex        8623 non-null   object\n",
      " 2   birth      8623 non-null   int64 \n",
      "dtypes: int64(1), object(2)\n",
      "memory usage: 202.2+ KB\n",
      "----------------------------------------------\n",
      "<class 'pandas.core.frame.DataFrame'>\n",
      "RangeIndex: 3287 entries, 0 to 3286\n",
      "Data columns (total 3 columns):\n",
      " #   Column   Non-Null Count  Dtype  \n",
      "---  ------   --------------  -----  \n",
      " 0   id_prod  3287 non-null   object \n",
      " 1   price    3287 non-null   float64\n",
      " 2   categ    3287 non-null   int64  \n",
      "dtypes: float64(1), int64(1), object(1)\n",
      "memory usage: 77.2+ KB\n",
      "----------------------------------------------\n",
      "<class 'pandas.core.frame.DataFrame'>\n",
      "RangeIndex: 337016 entries, 0 to 337015\n",
      "Data columns (total 4 columns):\n",
      " #   Column      Non-Null Count   Dtype \n",
      "---  ------      --------------   ----- \n",
      " 0   id_prod     337016 non-null  object\n",
      " 1   date        337016 non-null  object\n",
      " 2   session_id  337016 non-null  object\n",
      " 3   client_id   337016 non-null  object\n",
      "dtypes: object(4)\n",
      "memory usage: 10.3+ MB\n"
     ]
    }
   ],
   "source": [
    "# Visualisation de nos données\n",
    "df_customers.info()\n",
    "print('----------------------------------------------')\n",
    "df_products.info()\n",
    "print('----------------------------------------------')\n",
    "df_transactions.info()"
   ]
  },
  {
   "cell_type": "code",
   "execution_count": 3,
   "id": "8f39887f",
   "metadata": {},
   "outputs": [
    {
     "name": "stdout",
     "output_type": "stream",
     "text": [
      "client_id    False\n",
      "sex          False\n",
      "birth        False\n",
      "dtype: bool\n",
      "id_prod    False\n",
      "price      False\n",
      "categ      False\n",
      "dtype: bool\n",
      "id_prod       False\n",
      "date          False\n",
      "session_id    False\n",
      "client_id     False\n",
      "dtype: bool\n"
     ]
    }
   ],
   "source": [
    "# Vérification de nos données si il n'y a pas de données manquants\n",
    "print(df_customers.isnull().any())\n",
    "print(df_products.isnull().any())\n",
    "print(df_transactions.isnull().any())"
   ]
  },
  {
   "cell_type": "markdown",
   "id": "e8f6ac07",
   "metadata": {},
   "source": [
    "## Valeurs aberrantes/atypiques"
   ]
  },
  {
   "cell_type": "markdown",
   "id": "79d39c8b",
   "metadata": {},
   "source": [
    "### Analyse est correction de la dataframe df_customers :"
   ]
  },
  {
   "cell_type": "code",
   "execution_count": 4,
   "id": "0646e1fc",
   "metadata": {},
   "outputs": [
    {
     "data": {
      "text/html": [
       "<div>\n",
       "<style scoped>\n",
       "    .dataframe tbody tr th:only-of-type {\n",
       "        vertical-align: middle;\n",
       "    }\n",
       "\n",
       "    .dataframe tbody tr th {\n",
       "        vertical-align: top;\n",
       "    }\n",
       "\n",
       "    .dataframe thead th {\n",
       "        text-align: right;\n",
       "    }\n",
       "</style>\n",
       "<table border=\"1\" class=\"dataframe\">\n",
       "  <thead>\n",
       "    <tr style=\"text-align: right;\">\n",
       "      <th></th>\n",
       "      <th>client_id</th>\n",
       "      <th>sex</th>\n",
       "      <th>birth</th>\n",
       "    </tr>\n",
       "  </thead>\n",
       "  <tbody>\n",
       "    <tr>\n",
       "      <th>8494</th>\n",
       "      <td>ct_1</td>\n",
       "      <td>m</td>\n",
       "      <td>2001</td>\n",
       "    </tr>\n",
       "    <tr>\n",
       "      <th>2735</th>\n",
       "      <td>ct_0</td>\n",
       "      <td>f</td>\n",
       "      <td>2001</td>\n",
       "    </tr>\n",
       "    <tr>\n",
       "      <th>7358</th>\n",
       "      <td>c_999</td>\n",
       "      <td>m</td>\n",
       "      <td>1964</td>\n",
       "    </tr>\n",
       "    <tr>\n",
       "      <th>2145</th>\n",
       "      <td>c_998</td>\n",
       "      <td>m</td>\n",
       "      <td>2001</td>\n",
       "    </tr>\n",
       "    <tr>\n",
       "      <th>94</th>\n",
       "      <td>c_997</td>\n",
       "      <td>f</td>\n",
       "      <td>1994</td>\n",
       "    </tr>\n",
       "  </tbody>\n",
       "</table>\n",
       "</div>"
      ],
      "text/plain": [
       "     client_id sex  birth\n",
       "8494      ct_1   m   2001\n",
       "2735      ct_0   f   2001\n",
       "7358     c_999   m   1964\n",
       "2145     c_998   m   2001\n",
       "94       c_997   f   1994"
      ]
     },
     "execution_count": 4,
     "metadata": {},
     "output_type": "execute_result"
    }
   ],
   "source": [
    "# Tri des 5 premieres lignes de la dataframes df_customers\n",
    "df_customers.sort_values('client_id', ascending = False).head()"
   ]
  },
  {
   "cell_type": "code",
   "execution_count": 5,
   "id": "25e69026",
   "metadata": {},
   "outputs": [
    {
     "data": {
      "text/html": [
       "<div>\n",
       "<style scoped>\n",
       "    .dataframe tbody tr th:only-of-type {\n",
       "        vertical-align: middle;\n",
       "    }\n",
       "\n",
       "    .dataframe tbody tr th {\n",
       "        vertical-align: top;\n",
       "    }\n",
       "\n",
       "    .dataframe thead th {\n",
       "        text-align: right;\n",
       "    }\n",
       "</style>\n",
       "<table border=\"1\" class=\"dataframe\">\n",
       "  <thead>\n",
       "    <tr style=\"text-align: right;\">\n",
       "      <th></th>\n",
       "      <th>client_id</th>\n",
       "      <th>sex</th>\n",
       "      <th>birth</th>\n",
       "    </tr>\n",
       "  </thead>\n",
       "  <tbody>\n",
       "    <tr>\n",
       "      <th>3426</th>\n",
       "      <td>c_1001</td>\n",
       "      <td>m</td>\n",
       "      <td>1982</td>\n",
       "    </tr>\n",
       "    <tr>\n",
       "      <th>8472</th>\n",
       "      <td>c_1000</td>\n",
       "      <td>f</td>\n",
       "      <td>1966</td>\n",
       "    </tr>\n",
       "    <tr>\n",
       "      <th>2137</th>\n",
       "      <td>c_100</td>\n",
       "      <td>m</td>\n",
       "      <td>1992</td>\n",
       "    </tr>\n",
       "    <tr>\n",
       "      <th>6894</th>\n",
       "      <td>c_10</td>\n",
       "      <td>m</td>\n",
       "      <td>1956</td>\n",
       "    </tr>\n",
       "    <tr>\n",
       "      <th>4299</th>\n",
       "      <td>c_1</td>\n",
       "      <td>m</td>\n",
       "      <td>1955</td>\n",
       "    </tr>\n",
       "  </tbody>\n",
       "</table>\n",
       "</div>"
      ],
      "text/plain": [
       "     client_id sex  birth\n",
       "3426    c_1001   m   1982\n",
       "8472    c_1000   f   1966\n",
       "2137     c_100   m   1992\n",
       "6894      c_10   m   1956\n",
       "4299       c_1   m   1955"
      ]
     },
     "execution_count": 5,
     "metadata": {},
     "output_type": "execute_result"
    }
   ],
   "source": [
    "# Tri des 5 dernières lignes de la dataframes df_customers\n",
    "df_customers.sort_values('client_id', ascending = False).tail()"
   ]
  },
  {
   "cell_type": "markdown",
   "id": "b8961e8d",
   "metadata": {},
   "source": [
    "On constate que les client_id \"ct_0\" et \"ct_1\" ne sont pas identique aux autre client_id est qu'il ressemble à des client_id de test"
   ]
  },
  {
   "cell_type": "code",
   "execution_count": 6,
   "id": "4f636300",
   "metadata": {},
   "outputs": [],
   "source": [
    "# Suppression des 2 lignes de 'test' par restrictions\n",
    "df_customers = df_customers[(df_customers.client_id != 'ct_0') & (df_customers.client_id != 'ct_1')]"
   ]
  },
  {
   "cell_type": "code",
   "execution_count": 7,
   "id": "6ae050d4",
   "metadata": {},
   "outputs": [
    {
     "name": "stdout",
     "output_type": "stream",
     "text": [
      "     client_id sex  birth\n",
      "7078    c_8245   f   2004\n",
      "6330    c_2854   m   2004\n",
      "445     c_2627   m   2004\n",
      "1787    c_7916   f   2004\n",
      "2947     c_308   f   2004\n",
      "     client_id sex  birth\n",
      "4569     c_577   m   1929\n",
      "2491    c_8362   f   1929\n",
      "418     c_5302   m   1929\n",
      "1086    c_3218   f   1930\n",
      "5138    c_7232   f   1930\n"
     ]
    }
   ],
   "source": [
    "# Vérification de la cohérences des âges clients\n",
    "print(df_customers.sort_values(by='birth', ascending=False).head())\n",
    "print(df_customers.sort_values(by='birth', ascending=True).head())"
   ]
  },
  {
   "cell_type": "markdown",
   "id": "d265ea94",
   "metadata": {},
   "source": [
    "On constate que les personnes les plus âgés ont 93 ans et les plus jeunes ont 18 ans. Aucune anomalie."
   ]
  },
  {
   "cell_type": "markdown",
   "id": "4d2435d4",
   "metadata": {},
   "source": [
    "### Analyse est correction de la dataframe df_products :"
   ]
  },
  {
   "cell_type": "code",
   "execution_count": 8,
   "id": "16694017",
   "metadata": {},
   "outputs": [
    {
     "data": {
      "text/html": [
       "<div>\n",
       "<style scoped>\n",
       "    .dataframe tbody tr th:only-of-type {\n",
       "        vertical-align: middle;\n",
       "    }\n",
       "\n",
       "    .dataframe tbody tr th {\n",
       "        vertical-align: top;\n",
       "    }\n",
       "\n",
       "    .dataframe thead th {\n",
       "        text-align: right;\n",
       "    }\n",
       "</style>\n",
       "<table border=\"1\" class=\"dataframe\">\n",
       "  <thead>\n",
       "    <tr style=\"text-align: right;\">\n",
       "      <th></th>\n",
       "      <th>id_prod</th>\n",
       "      <th>price</th>\n",
       "      <th>categ</th>\n",
       "    </tr>\n",
       "  </thead>\n",
       "  <tbody>\n",
       "    <tr>\n",
       "      <th>731</th>\n",
       "      <td>T_0</td>\n",
       "      <td>-1.00</td>\n",
       "      <td>0</td>\n",
       "    </tr>\n",
       "    <tr>\n",
       "      <th>3188</th>\n",
       "      <td>2_99</td>\n",
       "      <td>84.99</td>\n",
       "      <td>2</td>\n",
       "    </tr>\n",
       "    <tr>\n",
       "      <th>3088</th>\n",
       "      <td>2_98</td>\n",
       "      <td>149.74</td>\n",
       "      <td>2</td>\n",
       "    </tr>\n",
       "    <tr>\n",
       "      <th>2698</th>\n",
       "      <td>2_97</td>\n",
       "      <td>160.99</td>\n",
       "      <td>2</td>\n",
       "    </tr>\n",
       "    <tr>\n",
       "      <th>2576</th>\n",
       "      <td>2_96</td>\n",
       "      <td>47.91</td>\n",
       "      <td>2</td>\n",
       "    </tr>\n",
       "  </tbody>\n",
       "</table>\n",
       "</div>"
      ],
      "text/plain": [
       "     id_prod   price  categ\n",
       "731      T_0   -1.00      0\n",
       "3188    2_99   84.99      2\n",
       "3088    2_98  149.74      2\n",
       "2698    2_97  160.99      2\n",
       "2576    2_96   47.91      2"
      ]
     },
     "execution_count": 8,
     "metadata": {},
     "output_type": "execute_result"
    }
   ],
   "source": [
    "# Tri des 5 premieres lignes de la dataframes df_customers\n",
    "df_products.sort_values('id_prod', ascending = False).head()"
   ]
  },
  {
   "cell_type": "code",
   "execution_count": 9,
   "id": "c1047300",
   "metadata": {},
   "outputs": [
    {
     "data": {
      "text/html": [
       "<div>\n",
       "<style scoped>\n",
       "    .dataframe tbody tr th:only-of-type {\n",
       "        vertical-align: middle;\n",
       "    }\n",
       "\n",
       "    .dataframe tbody tr th {\n",
       "        vertical-align: top;\n",
       "    }\n",
       "\n",
       "    .dataframe thead th {\n",
       "        text-align: right;\n",
       "    }\n",
       "</style>\n",
       "<table border=\"1\" class=\"dataframe\">\n",
       "  <thead>\n",
       "    <tr style=\"text-align: right;\">\n",
       "      <th></th>\n",
       "      <th>id_prod</th>\n",
       "      <th>price</th>\n",
       "      <th>categ</th>\n",
       "    </tr>\n",
       "  </thead>\n",
       "  <tbody>\n",
       "    <tr>\n",
       "      <th>922</th>\n",
       "      <td>0_1000</td>\n",
       "      <td>6.84</td>\n",
       "      <td>0</td>\n",
       "    </tr>\n",
       "    <tr>\n",
       "      <th>663</th>\n",
       "      <td>0_100</td>\n",
       "      <td>20.60</td>\n",
       "      <td>0</td>\n",
       "    </tr>\n",
       "    <tr>\n",
       "      <th>2691</th>\n",
       "      <td>0_10</td>\n",
       "      <td>17.95</td>\n",
       "      <td>0</td>\n",
       "    </tr>\n",
       "    <tr>\n",
       "      <th>803</th>\n",
       "      <td>0_1</td>\n",
       "      <td>10.99</td>\n",
       "      <td>0</td>\n",
       "    </tr>\n",
       "    <tr>\n",
       "      <th>1001</th>\n",
       "      <td>0_0</td>\n",
       "      <td>3.75</td>\n",
       "      <td>0</td>\n",
       "    </tr>\n",
       "  </tbody>\n",
       "</table>\n",
       "</div>"
      ],
      "text/plain": [
       "     id_prod  price  categ\n",
       "922   0_1000   6.84      0\n",
       "663    0_100  20.60      0\n",
       "2691    0_10  17.95      0\n",
       "803      0_1  10.99      0\n",
       "1001     0_0   3.75      0"
      ]
     },
     "execution_count": 9,
     "metadata": {},
     "output_type": "execute_result"
    }
   ],
   "source": [
    "# Tri des 5 premieres lignes de la dataframes df_customers\n",
    "df_products.sort_values('id_prod', ascending = False).tail()"
   ]
  },
  {
   "cell_type": "markdown",
   "id": "caa25902",
   "metadata": {},
   "source": [
    "On constate que l'id_prod 'T_0' à un prix négatif et que ce n'est pas logique"
   ]
  },
  {
   "cell_type": "code",
   "execution_count": 10,
   "id": "5c0e24d0",
   "metadata": {},
   "outputs": [],
   "source": [
    "# suppression de ce produit dans notre dataframe\n",
    "df_products = df_products[df_products.id_prod != 'T_0']"
   ]
  },
  {
   "cell_type": "code",
   "execution_count": 11,
   "id": "53b70b87",
   "metadata": {},
   "outputs": [
    {
     "name": "stdout",
     "output_type": "stream",
     "text": [
      "0.62\n",
      "300.0\n"
     ]
    }
   ],
   "source": [
    "# Vérification de la cohérences des prix produits\n",
    "print(df_products.price.min())\n",
    "print(df_products.price.max())"
   ]
  },
  {
   "cell_type": "markdown",
   "id": "c4e3a05c",
   "metadata": {},
   "source": [
    "aucune anomalie concernant le prix des produits"
   ]
  },
  {
   "cell_type": "markdown",
   "id": "cce283df",
   "metadata": {},
   "source": [
    "### Analyse est correction de la dataframe df_transactions :"
   ]
  },
  {
   "cell_type": "code",
   "execution_count": 12,
   "id": "0562a36a",
   "metadata": {},
   "outputs": [
    {
     "data": {
      "text/html": [
       "<div>\n",
       "<style scoped>\n",
       "    .dataframe tbody tr th:only-of-type {\n",
       "        vertical-align: middle;\n",
       "    }\n",
       "\n",
       "    .dataframe tbody tr th {\n",
       "        vertical-align: top;\n",
       "    }\n",
       "\n",
       "    .dataframe thead th {\n",
       "        text-align: right;\n",
       "    }\n",
       "</style>\n",
       "<table border=\"1\" class=\"dataframe\">\n",
       "  <thead>\n",
       "    <tr style=\"text-align: right;\">\n",
       "      <th></th>\n",
       "      <th>id_prod</th>\n",
       "      <th>date</th>\n",
       "      <th>session_id</th>\n",
       "      <th>client_id</th>\n",
       "    </tr>\n",
       "  </thead>\n",
       "  <tbody>\n",
       "    <tr>\n",
       "      <th>298399</th>\n",
       "      <td>T_0</td>\n",
       "      <td>test_2021-03-01 02:30:02.237423</td>\n",
       "      <td>s_0</td>\n",
       "      <td>ct_1</td>\n",
       "    </tr>\n",
       "    <tr>\n",
       "      <th>57261</th>\n",
       "      <td>T_0</td>\n",
       "      <td>test_2021-03-01 02:30:02.237439</td>\n",
       "      <td>s_0</td>\n",
       "      <td>ct_1</td>\n",
       "    </tr>\n",
       "    <tr>\n",
       "      <th>77758</th>\n",
       "      <td>T_0</td>\n",
       "      <td>test_2021-03-01 02:30:02.237429</td>\n",
       "      <td>s_0</td>\n",
       "      <td>ct_1</td>\n",
       "    </tr>\n",
       "    <tr>\n",
       "      <th>2895</th>\n",
       "      <td>T_0</td>\n",
       "      <td>test_2021-03-01 02:30:02.237414</td>\n",
       "      <td>s_0</td>\n",
       "      <td>ct_1</td>\n",
       "    </tr>\n",
       "    <tr>\n",
       "      <th>250656</th>\n",
       "      <td>T_0</td>\n",
       "      <td>test_2021-03-01 02:30:02.237431</td>\n",
       "      <td>s_0</td>\n",
       "      <td>ct_1</td>\n",
       "    </tr>\n",
       "  </tbody>\n",
       "</table>\n",
       "</div>"
      ],
      "text/plain": [
       "       id_prod                             date session_id client_id\n",
       "298399     T_0  test_2021-03-01 02:30:02.237423        s_0      ct_1\n",
       "57261      T_0  test_2021-03-01 02:30:02.237439        s_0      ct_1\n",
       "77758      T_0  test_2021-03-01 02:30:02.237429        s_0      ct_1\n",
       "2895       T_0  test_2021-03-01 02:30:02.237414        s_0      ct_1\n",
       "250656     T_0  test_2021-03-01 02:30:02.237431        s_0      ct_1"
      ]
     },
     "execution_count": 12,
     "metadata": {},
     "output_type": "execute_result"
    }
   ],
   "source": [
    "# Tri des 5 premieres lignes de la dataframes df_customers\n",
    "df_transactions.sort_values('client_id', ascending = False).head()"
   ]
  },
  {
   "cell_type": "code",
   "execution_count": 13,
   "id": "c5e6bc6a",
   "metadata": {},
   "outputs": [
    {
     "data": {
      "text/html": [
       "<div>\n",
       "<style scoped>\n",
       "    .dataframe tbody tr th:only-of-type {\n",
       "        vertical-align: middle;\n",
       "    }\n",
       "\n",
       "    .dataframe tbody tr th {\n",
       "        vertical-align: top;\n",
       "    }\n",
       "\n",
       "    .dataframe thead th {\n",
       "        text-align: right;\n",
       "    }\n",
       "</style>\n",
       "<table border=\"1\" class=\"dataframe\">\n",
       "  <thead>\n",
       "    <tr style=\"text-align: right;\">\n",
       "      <th></th>\n",
       "      <th>id_prod</th>\n",
       "      <th>date</th>\n",
       "      <th>session_id</th>\n",
       "      <th>client_id</th>\n",
       "    </tr>\n",
       "  </thead>\n",
       "  <tbody>\n",
       "    <tr>\n",
       "      <th>83342</th>\n",
       "      <td>0_1429</td>\n",
       "      <td>2021-10-15 11:28:24.523566</td>\n",
       "      <td>s_105105</td>\n",
       "      <td>c_1</td>\n",
       "    </tr>\n",
       "    <tr>\n",
       "      <th>321196</th>\n",
       "      <td>0_1547</td>\n",
       "      <td>2021-09-08 08:27:49.586711</td>\n",
       "      <td>s_86739</td>\n",
       "      <td>c_1</td>\n",
       "    </tr>\n",
       "    <tr>\n",
       "      <th>298829</th>\n",
       "      <td>0_1090</td>\n",
       "      <td>2021-12-19 02:44:12.827475</td>\n",
       "      <td>s_136532</td>\n",
       "      <td>c_1</td>\n",
       "    </tr>\n",
       "    <tr>\n",
       "      <th>28406</th>\n",
       "      <td>1_713</td>\n",
       "      <td>2021-11-15 20:40:00.586010</td>\n",
       "      <td>s_120172</td>\n",
       "      <td>c_1</td>\n",
       "    </tr>\n",
       "    <tr>\n",
       "      <th>126857</th>\n",
       "      <td>0_1571</td>\n",
       "      <td>2022-02-01 01:47:04.355850</td>\n",
       "      <td>s_158128</td>\n",
       "      <td>c_1</td>\n",
       "    </tr>\n",
       "  </tbody>\n",
       "</table>\n",
       "</div>"
      ],
      "text/plain": [
       "       id_prod                        date session_id client_id\n",
       "83342   0_1429  2021-10-15 11:28:24.523566   s_105105       c_1\n",
       "321196  0_1547  2021-09-08 08:27:49.586711    s_86739       c_1\n",
       "298829  0_1090  2021-12-19 02:44:12.827475   s_136532       c_1\n",
       "28406    1_713  2021-11-15 20:40:00.586010   s_120172       c_1\n",
       "126857  0_1571  2022-02-01 01:47:04.355850   s_158128       c_1"
      ]
     },
     "execution_count": 13,
     "metadata": {},
     "output_type": "execute_result"
    }
   ],
   "source": [
    "# Tri des 5 premieres lignes de la dataframes df_customers\n",
    "df_transactions.sort_values('client_id', ascending = False).tail()"
   ]
  },
  {
   "cell_type": "markdown",
   "id": "7083d62c",
   "metadata": {},
   "source": [
    "des valeurs 'test' ont été repérés par rapport aux client_id \"ct_0\" et \"ct_1\""
   ]
  },
  {
   "cell_type": "code",
   "execution_count": 14,
   "id": "6deebd99",
   "metadata": {},
   "outputs": [],
   "source": [
    "# Suppression de ces transactions 'test' dans notre dataframe\n",
    "df_transactions = df_transactions[df_transactions.id_prod != 'T_0']"
   ]
  },
  {
   "cell_type": "code",
   "execution_count": 15,
   "id": "6b3444b8",
   "metadata": {},
   "outputs": [
    {
     "data": {
      "text/plain": [
       "id_prod               object\n",
       "date          datetime64[ns]\n",
       "session_id            object\n",
       "client_id             object\n",
       "dtype: object"
      ]
     },
     "execution_count": 15,
     "metadata": {},
     "output_type": "execute_result"
    }
   ],
   "source": [
    "# Conversion des valeurs de la variable 'date' dans le bon format\n",
    "df_transactions['date'] = pd.to_datetime(df_transactions.date, format='%Y-%m-%d %H:%M:%S', errors = 'coerce')\n",
    "\n",
    "# Verification du format de nos variables\n",
    "df_transactions.dtypes"
   ]
  },
  {
   "cell_type": "code",
   "execution_count": 16,
   "id": "2ffbdd76",
   "metadata": {},
   "outputs": [
    {
     "data": {
      "text/plain": [
       "0"
      ]
     },
     "execution_count": 16,
     "metadata": {},
     "output_type": "execute_result"
    }
   ],
   "source": [
    "# Verification d'éventuelle données manquantes dans notre dataframe suite à notre manipulation\n",
    "df_transactions.date.isnull().sum()"
   ]
  },
  {
   "cell_type": "markdown",
   "id": "11ec46c8",
   "metadata": {},
   "source": [
    "## Traitement d'éventuelle doublons dans notre dataframe"
   ]
  },
  {
   "cell_type": "code",
   "execution_count": 17,
   "id": "5fb43876",
   "metadata": {},
   "outputs": [
    {
     "name": "stdout",
     "output_type": "stream",
     "text": [
      "0\n",
      "0\n",
      "0\n"
     ]
    }
   ],
   "source": [
    "# Vérification des doublons dans notre dataframe\n",
    "print(df_customers.duplicated().sum())\n",
    "print(df_products.duplicated().sum())\n",
    "print(df_transactions.duplicated().sum())"
   ]
  },
  {
   "cell_type": "markdown",
   "id": "f1b70dbc",
   "metadata": {},
   "source": [
    "Aucun doublons détecté dans nos 3 dataframes"
   ]
  },
  {
   "cell_type": "markdown",
   "id": "7c94cf4b",
   "metadata": {},
   "source": [
    "##### En conclusion, durant ma phase de néttoyage j'ai constaté uniquement des valeurs dites 'test' que j'ai du néttoyer pour ne pas fausser mon analyse. Il n'y a pas de valeurs atypiques ni de valeurs incohérentes durant cette première phase de nettoyage."
   ]
  },
  {
   "cell_type": "markdown",
   "id": "726a1f16",
   "metadata": {},
   "source": [
    "### Passons maintenent à la mission 2 : Analyse des ventes de l'entreprise"
   ]
  }
 ],
 "metadata": {
  "kernelspec": {
   "display_name": "Python 3 (ipykernel)",
   "language": "python",
   "name": "python3"
  },
  "language_info": {
   "codemirror_mode": {
    "name": "ipython",
    "version": 3
   },
   "file_extension": ".py",
   "mimetype": "text/x-python",
   "name": "python",
   "nbconvert_exporter": "python",
   "pygments_lexer": "ipython3",
   "version": "3.9.7"
  }
 },
 "nbformat": 4,
 "nbformat_minor": 5
}
